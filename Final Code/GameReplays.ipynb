{
 "cells": [
  {
   "cell_type": "markdown",
   "id": "7b515746-b678-42c6-9516-dc93485082e5",
   "metadata": {},
   "source": [
    "# Collection of various game replays taken during training."
   ]
  },
  {
   "cell_type": "markdown",
   "id": "35873143-66d7-4b51-b851-510de2b8a54e",
   "metadata": {
    "tags": []
   },
   "source": [
    "## 1) Final game between two fully trained networks for noughts and crosses."
   ]
  },
  {
   "cell_type": "code",
   "execution_count": 12,
   "id": "7aed87c4-2cff-4b4b-bc9a-45e35d641718",
   "metadata": {},
   "outputs": [
    {
     "data": {
      "text/html": [
       "\n",
       "    <video width=\"500\" height=\"400\" controls>\n",
       "    <source src=\"Replays/noughts_and_crosses_game.mp4\" type=\"video/mp4\">\n",
       "    </video>\n"
      ],
      "text/plain": [
       "<IPython.core.display.HTML object>"
      ]
     },
     "execution_count": 12,
     "metadata": {},
     "output_type": "execute_result"
    }
   ],
   "source": [
    "from IPython.display import HTML\n",
    "HTML(\"\"\"\n",
    "    <video width=\"500\" height=\"400\" controls>\n",
    "    <source src=\"Replays/noughts_and_crosses_game.mp4\" type=\"video/mp4\">\n",
    "    </video>\n",
    "\"\"\")"
   ]
  },
  {
   "cell_type": "markdown",
   "id": "38df6b3f-535d-4772-8ff9-a1886ce8dd10",
   "metadata": {
    "tags": []
   },
   "source": [
    "## 2) Connect 4 game by two networks before they have had any training."
   ]
  },
  {
   "cell_type": "code",
   "execution_count": 13,
   "id": "404c25ae-cbcd-4b36-bd5a-12ac6851ad3b",
   "metadata": {},
   "outputs": [
    {
     "data": {
      "text/html": [
       "\n",
       "    <video width=\"500\" height=\"400\" controls>\n",
       "    <source src=\"Replays/early_game.mp4\" type=\"video/mp4\">\n",
       "    </video>\n"
      ],
      "text/plain": [
       "<IPython.core.display.HTML object>"
      ]
     },
     "execution_count": 13,
     "metadata": {},
     "output_type": "execute_result"
    }
   ],
   "source": [
    "from IPython.display import HTML\n",
    "HTML(\"\"\"\n",
    "    <video width=\"500\" height=\"400\" controls>\n",
    "    <source src=\"Replays/early_game.mp4\" type=\"video/mp4\">\n",
    "    </video>\n",
    "\"\"\")"
   ]
  },
  {
   "cell_type": "markdown",
   "id": "f60bc551-26a0-432c-b9c2-93e9c32796f3",
   "metadata": {
    "tags": []
   },
   "source": [
    "## 3) Breakthrough game during training where player 2 learns to block player 1."
   ]
  },
  {
   "cell_type": "code",
   "execution_count": 14,
   "id": "ccf042b0-dfb2-4b43-90a3-6cbbe5d4615b",
   "metadata": {},
   "outputs": [
    {
     "data": {
      "text/html": [
       "\n",
       "    <video width=\"500\" height=\"400\" controls>\n",
       "    <source src=\"Replays/intermediate_game.mp4\" type=\"video/mp4\">\n",
       "    </video>\n"
      ],
      "text/plain": [
       "<IPython.core.display.HTML object>"
      ]
     },
     "execution_count": 14,
     "metadata": {},
     "output_type": "execute_result"
    }
   ],
   "source": [
    "from IPython.display import HTML\n",
    "HTML(\"\"\"\n",
    "    <video width=\"500\" height=\"400\" controls>\n",
    "    <source src=\"Replays/intermediate_game.mp4\" type=\"video/mp4\">\n",
    "    </video>\n",
    "\"\"\")"
   ]
  },
  {
   "cell_type": "markdown",
   "id": "69f9e7a6-4bc2-42ba-9154-f3165ccc0587",
   "metadata": {
    "tags": []
   },
   "source": [
    "## 4) Final game between after training was finished for fully connected neural networks."
   ]
  },
  {
   "cell_type": "code",
   "execution_count": 15,
   "id": "4c9a28eb-a662-4b75-8e06-67017b0e7f9a",
   "metadata": {},
   "outputs": [
    {
     "data": {
      "text/html": [
       "\n",
       "    <video width=\"500\" height=\"400\" controls>\n",
       "    <source src=\"Replays/standard_nets_final_game.mp4\" type=\"video/mp4\">\n",
       "    </video>\n"
      ],
      "text/plain": [
       "<IPython.core.display.HTML object>"
      ]
     },
     "execution_count": 15,
     "metadata": {},
     "output_type": "execute_result"
    }
   ],
   "source": [
    "from IPython.display import HTML\n",
    "HTML(\"\"\"\n",
    "    <video width=\"500\" height=\"400\" controls>\n",
    "    <source src=\"Replays/standard_nets_final_game.mp4\" type=\"video/mp4\">\n",
    "    </video>\n",
    "\"\"\")"
   ]
  },
  {
   "cell_type": "markdown",
   "id": "24625ba0-fd42-487a-9fe5-c92a911ef3b6",
   "metadata": {
    "tags": []
   },
   "source": [
    "## 5) Highest level game-play between two fully trained convolutional neural networks."
   ]
  },
  {
   "cell_type": "code",
   "execution_count": 16,
   "id": "3368a84b-1a14-4074-a68b-54e4d9708c05",
   "metadata": {},
   "outputs": [
    {
     "data": {
      "text/html": [
       "\n",
       "    <video width=\"500\" height=\"400\" controls>\n",
       "    <source src=\"Replays/convolutional_nets_final_game.mp4\" type=\"video/mp4\">\n",
       "    </video>\n"
      ],
      "text/plain": [
       "<IPython.core.display.HTML object>"
      ]
     },
     "execution_count": 16,
     "metadata": {},
     "output_type": "execute_result"
    }
   ],
   "source": [
    "from IPython.display import HTML\n",
    "HTML(\"\"\"\n",
    "    <video width=\"500\" height=\"400\" controls>\n",
    "    <source src=\"Replays/convolutional_nets_final_game.mp4\" type=\"video/mp4\">\n",
    "    </video>\n",
    "\"\"\")"
   ]
  }
 ],
 "metadata": {
  "kernelspec": {
   "display_name": "Python 3 (ipykernel)",
   "language": "python",
   "name": "python3"
  },
  "language_info": {
   "codemirror_mode": {
    "name": "ipython",
    "version": 3
   },
   "file_extension": ".py",
   "mimetype": "text/x-python",
   "name": "python",
   "nbconvert_exporter": "python",
   "pygments_lexer": "ipython3",
   "version": "3.7.6"
  }
 },
 "nbformat": 4,
 "nbformat_minor": 5
}
